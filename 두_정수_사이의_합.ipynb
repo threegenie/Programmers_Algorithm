{
  "nbformat": 4,
  "nbformat_minor": 0,
  "metadata": {
    "colab": {
      "name": "두 정수 사이의 합.ipynb",
      "provenance": []
    },
    "kernelspec": {
      "name": "python3",
      "display_name": "Python 3"
    },
    "language_info": {
      "name": "python"
    }
  },
  "cells": [
    {
      "cell_type": "code",
      "metadata": {
        "id": "Ez2Fm18MxYLP"
      },
      "source": [
        "a = 3\n",
        "b = 10\n",
        "\n",
        "# 1부터 n까지 더하는 공식 : n/2*(n+1)\n",
        "# a부터 b까지의 숫자들을 다 더하려면, 1부터 b까지 전부다 더한 값에서 1부터 a까지 전부다 더한 값을 빼서 거기다 a를 더하면 됨\n",
        "answer = int((b/2*(b+1))-(a/2*(a+1))+a)"
      ],
      "execution_count": 3,
      "outputs": []
    },
    {
      "cell_type": "code",
      "metadata": {
        "colab": {
          "base_uri": "https://localhost:8080/"
        },
        "id": "Uz4hTKCbzCcu",
        "outputId": "3afb4039-aea6-436a-f6ac-76cc1cd657d5"
      },
      "source": [
        "answer"
      ],
      "execution_count": 4,
      "outputs": [
        {
          "output_type": "execute_result",
          "data": {
            "text/plain": [
              "52"
            ]
          },
          "metadata": {
            "tags": []
          },
          "execution_count": 4
        }
      ]
    },
    {
      "cell_type": "code",
      "metadata": {
        "id": "obBQ4jaKzNCJ"
      },
      "source": [
        "def solution(a,b):\n",
        "  answer = 0\n",
        "  if a==b:\n",
        "    answer = a\n",
        "  elif b>a:\n",
        "    answer = int((b/2*(b+1))-(a/2*(a+1))+a)\n",
        "  else:\n",
        "    answer = int((a/2*(a+1))-(b/2*(b+1))+b)\n",
        "  return answer"
      ],
      "execution_count": 10,
      "outputs": []
    },
    {
      "cell_type": "code",
      "metadata": {
        "colab": {
          "base_uri": "https://localhost:8080/"
        },
        "id": "TxYgxI24ztC1",
        "outputId": "7d4ecae4-038c-4d6a-abef-454d36860bfb"
      },
      "source": [
        "solution(3,5)"
      ],
      "execution_count": 11,
      "outputs": [
        {
          "output_type": "execute_result",
          "data": {
            "text/plain": [
              "12"
            ]
          },
          "metadata": {
            "tags": []
          },
          "execution_count": 11
        }
      ]
    },
    {
      "cell_type": "code",
      "metadata": {
        "colab": {
          "base_uri": "https://localhost:8080/"
        },
        "id": "n8Bv-ZeMzvst",
        "outputId": "72eccfdd-698a-49ac-9abd-5c8d439e0d39"
      },
      "source": [
        "solution(3,3)"
      ],
      "execution_count": 12,
      "outputs": [
        {
          "output_type": "execute_result",
          "data": {
            "text/plain": [
              "3"
            ]
          },
          "metadata": {
            "tags": []
          },
          "execution_count": 12
        }
      ]
    },
    {
      "cell_type": "code",
      "metadata": {
        "colab": {
          "base_uri": "https://localhost:8080/"
        },
        "id": "abODp6Apzx0X",
        "outputId": "ce3e37f6-e31c-4ff4-f46a-553b204bbec6"
      },
      "source": [
        "solution(5,3)"
      ],
      "execution_count": 13,
      "outputs": [
        {
          "output_type": "execute_result",
          "data": {
            "text/plain": [
              "12"
            ]
          },
          "metadata": {
            "tags": []
          },
          "execution_count": 13
        }
      ]
    }
  ]
}