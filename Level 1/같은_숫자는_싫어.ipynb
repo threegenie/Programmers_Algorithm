{
  "nbformat": 4,
  "nbformat_minor": 0,
  "metadata": {
    "colab": {
      "name": "같은 숫자는 싫어.ipynb",
      "provenance": []
    },
    "kernelspec": {
      "name": "python3",
      "display_name": "Python 3"
    },
    "language_info": {
      "name": "python"
    }
  },
  "cells": [
    {
      "cell_type": "code",
      "metadata": {
        "colab": {
          "base_uri": "https://localhost:8080/"
        },
        "id": "SrJ0NzISqhPd",
        "outputId": "37b1464f-dc11-49fb-bd7f-fb8fe255f92f"
      },
      "source": [
        "arr = [4,4,3,3,3]\n",
        "answer = []\n",
        "\n",
        "for i in range(0,len(arr)):\n",
        "  if i==0:\n",
        "    answer.append(arr[i])\n",
        "  elif arr[i]!=arr[i-1]:\n",
        "    answer.append(arr[i])\n",
        " \n",
        "\n",
        "print(answer)\n",
        "\n",
        "# if와 elif로 나눠주는 게 중요했다.. index가 0인 것과 그 이외의 숫자들을 따로 분리해서 적용해줘야 함!!"
      ],
      "execution_count": 29,
      "outputs": [
        {
          "output_type": "stream",
          "text": [
            "[4, 3]\n"
          ],
          "name": "stdout"
        }
      ]
    },
    {
      "cell_type": "code",
      "metadata": {
        "id": "enOklhDaw8jG"
      },
      "source": [
        "def solution(arr):\n",
        "    answer = []\n",
        "\n",
        "    for i in range(0,len(arr)):\n",
        "        if i==0: \n",
        "            answer.append(arr[i])\n",
        "        elif arr[i-1]!=arr[i]:\n",
        "            answer.append(arr[i])\n",
        "\n",
        "    return answer"
      ],
      "execution_count": 30,
      "outputs": []
    }
  ]
}