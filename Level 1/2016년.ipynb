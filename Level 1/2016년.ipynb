{
  "nbformat": 4,
  "nbformat_minor": 0,
  "metadata": {
    "colab": {
      "name": "2016년.ipynb",
      "provenance": []
    },
    "kernelspec": {
      "name": "python3",
      "display_name": "Python 3"
    },
    "language_info": {
      "name": "python"
    }
  },
  "cells": [
    {
      "cell_type": "code",
      "metadata": {
        "colab": {
          "base_uri": "https://localhost:8080/"
        },
        "id": "qh7oZvnJ0v0a",
        "outputId": "0567be0c-540a-4423-97d3-17a4c7921fdb"
      },
      "source": [
        "import calendar\n",
        "\n",
        "a = 5\n",
        "b = 24\n",
        "\n",
        "result = calendar.weekday(2016,a,b)\n",
        "\n",
        "week = ['SUN','MON','TUE','WED','THU','FRI','SAT']\n",
        "\n",
        "day = week[result+1]\n",
        "print(day)"
      ],
      "execution_count": 6,
      "outputs": [
        {
          "output_type": "stream",
          "text": [
            "TUE\n"
          ],
          "name": "stdout"
        }
      ]
    },
    {
      "cell_type": "code",
      "metadata": {
        "id": "ytn0uxMJ1kOR"
      },
      "source": [
        "import calendar\n",
        "def solution(a, b):\n",
        "    result = calendar.weekday(2016,a,b)\n",
        "    week = ['SUN','MON','TUE','WED','THU','FRI','SAT']\n",
        "    answer = week[result+1]\n",
        "    return answer"
      ],
      "execution_count": null,
      "outputs": []
    }
  ]
}