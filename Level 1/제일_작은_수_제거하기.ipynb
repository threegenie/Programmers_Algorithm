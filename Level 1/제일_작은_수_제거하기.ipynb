{
  "nbformat": 4,
  "nbformat_minor": 0,
  "metadata": {
    "colab": {
      "name": "[김세진] 제일 작은 수 제거하기.ipynb",
      "provenance": []
    },
    "kernelspec": {
      "name": "python3",
      "display_name": "Python 3"
    },
    "language_info": {
      "name": "python"
    }
  },
  "cells": [
    {
      "cell_type": "markdown",
      "metadata": {
        "id": "BJRDgHSVWim_"
      },
      "source": [
        "#### 제일 작은 수 제거하기\n",
        "    \n",
        "    # 정수를 저장한 배열, arr 에서 가장 작은 수를 제거한 배열을 리턴하는 함수, solution을 완성해주세요. \n",
        "    # 단, 리턴하려는 배열이 빈 배열인 경우엔 배열에 -1을 채워 리턴하세요. 예를들어 arr이 [4,3,2,1]인 경우는 [4,3,2]를 리턴 하고, [10]면 [-1]을 리턴 합니다.\n",
        "    # arr은 길이 1 이상인 배열입니다.\n",
        "    # 인덱스 i, j에 대해 i ≠ j이면 arr[i] ≠ arr[j] 입니다."
      ]
    },
    {
      "cell_type": "code",
      "metadata": {
        "id": "mXMFKk5VVsZG"
      },
      "source": [
        "def solution(arr):\n",
        "    if len(arr)>1: #배열의 길이가 1 이상일 때\n",
        "      arr.remove(min(arr)) #배열에서 가장 작은 수를 지움\n",
        "      return arr\n",
        "    else: #배열의 길이가 1 미만일 때\n",
        "      return [-1] #-1을 리턴"
      ],
      "execution_count": 12,
      "outputs": []
    },
    {
      "cell_type": "code",
      "metadata": {
        "colab": {
          "base_uri": "https://localhost:8080/"
        },
        "id": "N9kFw3h0WW8W",
        "outputId": "73cc440d-cbc9-4a4e-ceed-8188d6e4fd53"
      },
      "source": [
        "solution([1,2,3,4])"
      ],
      "execution_count": 13,
      "outputs": [
        {
          "output_type": "execute_result",
          "data": {
            "text/plain": [
              "[2, 3, 4]"
            ]
          },
          "metadata": {
            "tags": []
          },
          "execution_count": 13
        }
      ]
    }
  ]
}