{
  "nbformat": 4,
  "nbformat_minor": 0,
  "metadata": {
    "colab": {
      "name": "[김세진]완주하지 못한 선수.ipynb",
      "provenance": []
    },
    "kernelspec": {
      "name": "python3",
      "display_name": "Python 3"
    },
    "language_info": {
      "name": "python"
    }
  },
  "cells": [
    {
      "cell_type": "markdown",
      "metadata": {
        "id": "5RAL7p5-XwBH"
      },
      "source": [
        "#### 완주하지 못한 선수\n",
        "    # 수많은 마라톤 선수들이 마라톤에 참여하였습니다. 단 한 명의 선수를 제외하고는 모든 선수가 마라톤을 완주하였습니다.\n",
        "\n",
        "    마라톤에 참여한 선수들의 이름이 담긴 배열 participant와 완주한 선수들의 이름이 담긴 배열 completion이 주어질 때, 완주하지 못한 선수의 이름을 return 하도록 solution 함수를 작성해주세요."
      ]
    },
    {
      "cell_type": "code",
      "metadata": {
        "id": "WDmRwvImWtzu"
      },
      "source": [
        "def solution(participant, completion):\n",
        "  answer = []\n",
        "\n",
        "  answer = [x for x in participant if x not in completion]\n",
        "  answer = ''.join(answer)\n",
        "  return answer"
      ],
      "execution_count": 19,
      "outputs": []
    },
    {
      "cell_type": "code",
      "metadata": {
        "colab": {
          "base_uri": "https://localhost:8080/",
          "height": 35
        },
        "id": "aIPBjarYW8dV",
        "outputId": "d5459424-b41f-45f3-a7c3-c05c65677f84"
      },
      "source": [
        "solution([\"leo\", \"kiki\", \"eden\"],[\"eden\", \"kiki\"])"
      ],
      "execution_count": 20,
      "outputs": [
        {
          "output_type": "execute_result",
          "data": {
            "application/vnd.google.colaboratory.intrinsic+json": {
              "type": "string"
            },
            "text/plain": [
              "'leo'"
            ]
          },
          "metadata": {
            "tags": []
          },
          "execution_count": 20
        }
      ]
    },
    {
      "cell_type": "markdown",
      "metadata": {
        "id": "aLfZzIoIX2Bi"
      },
      "source": [
        "- 테스트케이스 5개 중 3개 성공, 아마도 중복값 처리를 못해서 인 것 같은데, 당장 생각은 안난다 ㅠㅠ 다음에 다시 해결할 것! 효율성 테스트도 통과하지 못했다ㅠㅠ"
      ]
    },
    {
      "cell_type": "markdown",
      "metadata": {
        "id": "PbUbJpLdavES"
      },
      "source": [
        "#### 다시 시도한 코드"
      ]
    },
    {
      "cell_type": "code",
      "metadata": {
        "id": "hhFN46inauaq"
      },
      "source": [
        "def solution(participant, completion):\n",
        "\n",
        "  participant = sorted(participant)\n",
        "  completion = sorted(completion)\n",
        "\n",
        "  for i in range(len(completion)):\n",
        "    if participant[i] != completion[i]:\n",
        "      return participant[i]\n",
        "  \n",
        "  return participant[i+1]"
      ],
      "execution_count": 29,
      "outputs": []
    },
    {
      "cell_type": "code",
      "metadata": {
        "colab": {
          "base_uri": "https://localhost:8080/",
          "height": 35
        },
        "id": "K4iJoy31bBo3",
        "outputId": "b750dd1b-9b10-414c-c455-d4bdadd6f102"
      },
      "source": [
        "solution([\"leo\", \"kiki\", \"eden\"],[\"eden\", \"kiki\"])"
      ],
      "execution_count": 30,
      "outputs": [
        {
          "output_type": "execute_result",
          "data": {
            "application/vnd.google.colaboratory.intrinsic+json": {
              "type": "string"
            },
            "text/plain": [
              "'leo'"
            ]
          },
          "metadata": {
            "tags": []
          },
          "execution_count": 30
        }
      ]
    },
    {
      "cell_type": "code",
      "metadata": {
        "colab": {
          "base_uri": "https://localhost:8080/",
          "height": 35
        },
        "id": "L0VlKXFvbELH",
        "outputId": "63e19b00-4d81-4af1-e3f7-2ccbcbad5ad6"
      },
      "source": [
        "solution([\"mislav\", \"stanko\", \"mislav\", \"ana\"],[\"stanko\", \"ana\", \"mislav\"])"
      ],
      "execution_count": 31,
      "outputs": [
        {
          "output_type": "execute_result",
          "data": {
            "application/vnd.google.colaboratory.intrinsic+json": {
              "type": "string"
            },
            "text/plain": [
              "'mislav'"
            ]
          },
          "metadata": {
            "tags": []
          },
          "execution_count": 31
        }
      ]
    },
    {
      "cell_type": "code",
      "metadata": {
        "colab": {
          "base_uri": "https://localhost:8080/",
          "height": 35
        },
        "id": "1lG7FUTZbr-1",
        "outputId": "9e48a09b-da65-447d-bc14-ec85845d446d"
      },
      "source": [
        "solution([\"marina\", \"josipa\", \"nikola\", \"vinko\", \"filipa\"],[\"josipa\", \"filipa\", \"marina\", \"nikola\"])"
      ],
      "execution_count": 32,
      "outputs": [
        {
          "output_type": "execute_result",
          "data": {
            "application/vnd.google.colaboratory.intrinsic+json": {
              "type": "string"
            },
            "text/plain": [
              "'vinko'"
            ]
          },
          "metadata": {
            "tags": []
          },
          "execution_count": 32
        }
      ]
    }
  ]
}