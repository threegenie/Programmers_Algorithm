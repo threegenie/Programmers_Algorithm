{
  "nbformat": 4,
  "nbformat_minor": 0,
  "metadata": {
    "colab": {
      "name": "[김세진] 크레인 인형뽑기 게임.ipynb",
      "provenance": []
    },
    "kernelspec": {
      "name": "python3",
      "display_name": "Python 3"
    },
    "language_info": {
      "name": "python"
    }
  },
  "cells": [
    {
      "cell_type": "markdown",
      "metadata": {
        "id": "xoSonPEmgYz-"
      },
      "source": [
        "#### 크레인 인형뽑기 게임\n",
        "    # 2019 카카오 개발자 코테.. 어려웠는데 어찌 테스트케이스 통과는 함 근데 이게 맞나...\n",
        "    # board 배열은 2차원 배열로 크기는 \"5 x 5\" 이상 \"30 x 30\" 이하입니다.\n",
        "    board의 각 칸에는 0 이상 100 이하인 정수가 담겨있습니다.\n",
        "    0은 빈 칸을 나타냅니다.\n",
        "    1 ~ 100의 각 숫자는 각기 다른 인형의 모양을 의미하며 같은 숫자는 같은 모양의 인형을 나타냅니다.\n",
        "    moves 배열의 크기는 1 이상 1,000 이하입니다.\n",
        "    moves 배열 각 원소들의 값은 1 이상이며 board 배열의 가로 크기 이하인 자연수입니다.\n"
      ]
    },
    {
      "cell_type": "code",
      "metadata": {
        "id": "hnisXFhaYoqH"
      },
      "source": [
        "def solution(board, moves): # board가 게임판, moves가 움직인 수 \n",
        "    answer = 0 #터트린 인형 개수\n",
        "    basket = [] #인형 쌓는 바구니\n",
        "    \n",
        "    for i in moves:  # 움직임\n",
        "        for j in board: # 열\n",
        "            if j[i-1]>0: #움직인 수가 0보다 크다면 - move는 1보다 크기 때문에 1을 빼줘야 인덱스로 사용 가능 \n",
        "                basket.append(j[i-1]) #그 값을 바구니에 담음\n",
        "                j[i-1] = 0 #뽑았으니 0이 됨\n",
        "\n",
        "                if len(basket)>=2: #바구니에 인형이 두개 이상 들어갈 때\n",
        "                    if basket[-2] == basket[-1]: #넣은 인형 두 개가 같으면\n",
        "                        del basket[-2] #둘 다 지움\n",
        "                        del basket[-1]\n",
        "                        answer += 2 #인형 터트린 개수 +2\n",
        "                break\n",
        "\n",
        "    return answer"
      ],
      "execution_count": 15,
      "outputs": []
    },
    {
      "cell_type": "code",
      "metadata": {
        "colab": {
          "base_uri": "https://localhost:8080/"
        },
        "id": "peCKERzngrMG",
        "outputId": "95ef9b03-2885-44de-dd22-7ebf18644cc3"
      },
      "source": [
        "solution([[0,0,0,0,0],[0,0,1,0,3],[0,2,5,0,1],[4,2,4,4,2],[3,5,1,3,1]],[1,5,3,5,1,2,1,4])"
      ],
      "execution_count": 16,
      "outputs": [
        {
          "output_type": "execute_result",
          "data": {
            "text/plain": [
              "4"
            ]
          },
          "metadata": {
            "tags": []
          },
          "execution_count": 16
        }
      ]
    }
  ]
}