{
  "nbformat": 4,
  "nbformat_minor": 0,
  "metadata": {
    "colab": {
      "name": "가운데 글자 가져오기.ipynb",
      "provenance": []
    },
    "kernelspec": {
      "name": "python3",
      "display_name": "Python 3"
    },
    "language_info": {
      "name": "python"
    }
  },
  "cells": [
    {
      "cell_type": "markdown",
      "metadata": {
        "id": "qWFjVvg7qLc1"
      },
      "source": [
        "#### 가운데 글자 가져오기\n",
        "    # 단어 s의 가운데 글자를 반환하는 함수, solution을 만들어 보세요. 단어의 길이가 짝수라면 가운데 두글자를 반환하면 됩니다.\n",
        "\n",
        "    제한사항\n",
        "    s는 길이가 1 이상, 100이하인 스트링입니다."
      ]
    },
    {
      "cell_type": "markdown",
      "metadata": {
        "id": "26_NrCHvp8LG"
      },
      "source": [
        "1차시도 : 너무 복잡하게 생각해서 fail..."
      ]
    },
    {
      "cell_type": "code",
      "metadata": {
        "id": "E8klW9ian4Ac"
      },
      "source": [
        "def solution(s):\n",
        "  list = [] #단어 안의 글자들을 넣을 리스트\n",
        "  for i in range(len(s)):\n",
        "    list.append(s[i]) #글자들 하나씩 저장\n",
        "\n",
        "  answer = [] #반환할 글자 리스트\n",
        "  length = int(len(list)) #리스트 길이\n",
        "\n",
        "  if length%2==1: #길이가 홀수일 때\n",
        "    answer.append(list[(length-1)/2])\n",
        "  else:\n",
        "    answer.append(list[(length/2)])\n",
        "    answer.append(list[(length/2)-1])\n",
        "\n",
        "  answer = ''.join(answer)\n",
        "\n",
        "  return answer"
      ],
      "execution_count": null,
      "outputs": []
    },
    {
      "cell_type": "markdown",
      "metadata": {
        "id": "IHWCBwAkqAi4"
      },
      "source": [
        "2차시도 : 직관적으로 생각하기.. 그리고 인덱스 값이 항상 정수가 나오게끔 몫을 구하는 것으로 변경"
      ]
    },
    {
      "cell_type": "code",
      "metadata": {
        "id": "rLS4O0Xwo0Fq"
      },
      "source": [
        "def solution(s):\n",
        "  if len(s)%2==1:\n",
        "    return s[len(s)//2]\n",
        "  else:\n",
        "    return s[(len(s)//2 - 1) : (len(s)//2 + 1)]"
      ],
      "execution_count": 19,
      "outputs": []
    },
    {
      "cell_type": "code",
      "metadata": {
        "colab": {
          "base_uri": "https://localhost:8080/",
          "height": 35
        },
        "id": "Xu7f4M19paDy",
        "outputId": "e06d9a8d-0a01-49ed-dc8e-643f8743653c"
      },
      "source": [
        "solution('apple')"
      ],
      "execution_count": 20,
      "outputs": [
        {
          "output_type": "execute_result",
          "data": {
            "application/vnd.google.colaboratory.intrinsic+json": {
              "type": "string"
            },
            "text/plain": [
              "'p'"
            ]
          },
          "metadata": {
            "tags": []
          },
          "execution_count": 20
        }
      ]
    }
  ]
}